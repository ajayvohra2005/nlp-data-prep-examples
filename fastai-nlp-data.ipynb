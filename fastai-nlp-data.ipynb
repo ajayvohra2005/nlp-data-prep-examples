{
 "cells": [
  {
   "cell_type": "code",
   "execution_count": null,
   "id": "c61f170e",
   "metadata": {},
   "outputs": [],
   "source": [
    "import boto3\n",
    "\n",
    "fastai_data_bucket = 'fast-ai-nlp'\n",
    "fastai_data_key = 'dbpedia_csv.tgz'\n",
    "\n",
    "s3_client = boto3.client(\"s3\")\n",
    "s3_client.download_file(fastai_data_bucket, fastai_data_key, fastai_data_key)"
   ]
  },
  {
   "cell_type": "code",
   "execution_count": null,
   "id": "dfb570af",
   "metadata": {},
   "outputs": [],
   "source": [
    "import tarfile\n",
    "\n",
    "tar = tarfile.open(fastai_data_key, 'r')\n",
    "for item in tar:\n",
    "    tar.extract(item, \".\")"
   ]
  },
  {
   "cell_type": "code",
   "execution_count": null,
   "id": "77e01ef3",
   "metadata": {},
   "outputs": [],
   "source": [
    "import glob\n",
    "\n",
    "s3_bucket = # s3 bucket\n",
    "\n",
    "for file_path in glob.glob('dbpedia_csv/*.*'):\n",
    "    s3_key = f\"{fastai_data_bucket}/{file_path}\"\n",
    "    print(f\"Upload: {file_path}\")\n",
    "    s3_client.upload_file(file_path, s3_bucket, s3_key)"
   ]
  },
  {
   "cell_type": "code",
   "execution_count": null,
   "id": "c37d5290",
   "metadata": {},
   "outputs": [],
   "source": [
    "fastai_data_key = 'wikitext-103.tgz'\n",
    "\n",
    "s3_client.download_file(fastai_data_bucket, fastai_data_key, fastai_data_key)"
   ]
  },
  {
   "cell_type": "code",
   "execution_count": null,
   "id": "5017cef6",
   "metadata": {},
   "outputs": [],
   "source": [
    "tar = tarfile.open(fastai_data_key, 'r')\n",
    "for item in tar:\n",
    "    tar.extract(item, \".\")"
   ]
  },
  {
   "cell_type": "code",
   "execution_count": null,
   "id": "f56719fc",
   "metadata": {},
   "outputs": [],
   "source": [
    "for file_path in glob.glob('wikitext-103/*.*'):\n",
    "    s3_key = f\"{fastai_data_bucket}/{file_path}\"\n",
    "    print(f\"Upload: {file_path}\")\n",
    "    s3_client.upload_file(file_path, s3_bucket, s3_key)"
   ]
  },
  {
   "cell_type": "code",
   "execution_count": null,
   "id": "930dd3e4",
   "metadata": {},
   "outputs": [],
   "source": []
  }
 ],
 "metadata": {
  "kernelspec": {
   "display_name": "conda_python3",
   "language": "python",
   "name": "conda_python3"
  },
  "language_info": {
   "codemirror_mode": {
    "name": "ipython",
    "version": 3
   },
   "file_extension": ".py",
   "mimetype": "text/x-python",
   "name": "python",
   "nbconvert_exporter": "python",
   "pygments_lexer": "ipython3",
   "version": "3.6.13"
  }
 },
 "nbformat": 4,
 "nbformat_minor": 5
}
