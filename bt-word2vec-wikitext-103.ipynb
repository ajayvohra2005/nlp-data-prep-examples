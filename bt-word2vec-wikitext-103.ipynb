{
 "cells": [
  {
   "cell_type": "code",
   "execution_count": null,
   "id": "044bd532",
   "metadata": {},
   "outputs": [],
   "source": [
    "# Loads RDD\n",
    "s3_bucket=  #s3 bucket\n",
    "s3_key = \"fast-ai-nlp/wikitext-103/train.csv\"\n",
    "wikitext_csv_train = f\"s3a://{s3_bucket}/{s3_key}\"\n",
    "train_rdd = sc.textFile(wikitext_csv_train)"
   ]
  },
  {
   "cell_type": "code",
   "execution_count": null,
   "id": "56771f07",
   "metadata": {},
   "outputs": [],
   "source": [
    "# filter lines\n",
    "lines = train_rdd.filter(lambda l: l.strip() and (not l.strip() == '\"') and (not l.strip().startswith(\"=\")) )"
   ]
  },
  {
   "cell_type": "code",
   "execution_count": null,
   "id": "39709836",
   "metadata": {},
   "outputs": [],
   "source": [
    "tokenized = lines.map(lambda x: x.replace('\"\"', ''))"
   ]
  },
  {
   "cell_type": "code",
   "execution_count": null,
   "id": "c28cb151",
   "metadata": {},
   "outputs": [],
   "source": [
    "tokenized_rdd_1 = lines.repartition(1)"
   ]
  },
  {
   "cell_type": "code",
   "execution_count": null,
   "id": "e8ca520f",
   "metadata": {},
   "outputs": [],
   "source": [
    "sc._jsc.hadoopConfiguration().set(\"mapred.output.committer.class\", \"org.apache.hadoop.mapred.DirectFileOutputCommitter\")"
   ]
  },
  {
   "cell_type": "code",
   "execution_count": null,
   "id": "25356a67",
   "metadata": {},
   "outputs": [],
   "source": [
    "s3_out_url = f\"s3a://{s3_bucket}/blazing-text/word2vec/wikitext-103\"\n",
    "print(f\"Save: {s3_out_url}\")\n",
    "tokenized_rdd_1.saveAsTextFile(s3_out_url)"
   ]
  }
 ],
 "metadata": {
  "kernelspec": {
   "display_name": "Sparkmagic (PySpark)",
   "language": "python",
   "name": "pysparkkernel"
  },
  "language_info": {
   "codemirror_mode": {
    "name": "python",
    "version": 3
   },
   "file_extension": ".py",
   "mimetype": "text/x-python",
   "name": "pyspark",
   "pygments_lexer": "python3"
  }
 },
 "nbformat": 4,
 "nbformat_minor": 5
}
