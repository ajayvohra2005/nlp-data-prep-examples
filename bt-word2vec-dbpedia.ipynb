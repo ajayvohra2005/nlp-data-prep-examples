{
 "cells": [
  {
   "cell_type": "code",
   "execution_count": null,
   "id": "ea770de1",
   "metadata": {},
   "outputs": [],
   "source": [
    "# Loads RDD\n",
    "s3_bucket= # s3 bucket\n",
    "s3_key = \"fast-ai-nlp/dbpedia_csv/train.csv\"\n",
    "dbpedia_csv_train = f\"s3a://{s3_bucket}/{s3_key}\"\n",
    "train_rdd = sc.textFile(dbpedia_csv_train)"
   ]
  },
  {
   "cell_type": "code",
   "execution_count": null,
   "id": "38fefd41",
   "metadata": {},
   "outputs": [],
   "source": [
    "# Split lines into columns; change split() argument depending on deliminiter\n",
    "parts = train_rdd.map(lambda l: l.split(','))"
   ]
  },
  {
   "cell_type": "code",
   "execution_count": null,
   "id": "4b83a2f7",
   "metadata": {},
   "outputs": [],
   "source": [
    "sentences = parts.map(lambda p: p[2])"
   ]
  },
  {
   "cell_type": "code",
   "execution_count": null,
   "id": "bc1f23aa",
   "metadata": {},
   "outputs": [],
   "source": [
    "tokenized = sentences.map(lambda x: x.replace('\"', '').replace(\".\", \" . \").replace(\",\", \" , \").replace(\"-\", \" - \").replace(\"'\", \"\").replace(\"(\", \" ( \").replace(\")\", \" ) \"))"
   ]
  },
  {
   "cell_type": "code",
   "execution_count": null,
   "id": "ba51ee47",
   "metadata": {},
   "outputs": [],
   "source": [
    "tokenized.take(2)"
   ]
  },
  {
   "cell_type": "code",
   "execution_count": null,
   "id": "fc0629aa",
   "metadata": {},
   "outputs": [],
   "source": [
    "tokenized_rdd_1 = tokenized.repartition(1)"
   ]
  },
  {
   "cell_type": "code",
   "execution_count": null,
   "id": "13b20d6d",
   "metadata": {},
   "outputs": [],
   "source": [
    "sc._jsc.hadoopConfiguration().set(\"mapred.output.committer.class\", \"org.apache.hadoop.mapred.DirectFileOutputCommitter\")"
   ]
  },
  {
   "cell_type": "code",
   "execution_count": null,
   "id": "9c29bcf9",
   "metadata": {},
   "outputs": [],
   "source": [
    "s3_out_url = f\"s3a://{s3_bucket}/blazing-text/word2vec/dbpedia\"\n",
    "print(f\"Save: {s3_out_url}\")\n",
    "tokenized_rdd_1.saveAsTextFile(s3_out_url)"
   ]
  },
  {
   "cell_type": "code",
   "execution_count": null,
   "id": "091f21d7",
   "metadata": {},
   "outputs": [],
   "source": []
  },
  {
   "cell_type": "code",
   "execution_count": null,
   "id": "d0b4f5f8",
   "metadata": {},
   "outputs": [],
   "source": []
  },
  {
   "cell_type": "code",
   "execution_count": null,
   "id": "a0b036c7",
   "metadata": {},
   "outputs": [],
   "source": []
  }
 ],
 "metadata": {
  "kernelspec": {
   "display_name": "Sparkmagic (PySpark)",
   "language": "python",
   "name": "pysparkkernel"
  },
  "language_info": {
   "codemirror_mode": {
    "name": "python",
    "version": 3
   },
   "file_extension": ".py",
   "mimetype": "text/x-python",
   "name": "pyspark",
   "pygments_lexer": "python3"
  }
 },
 "nbformat": 4,
 "nbformat_minor": 5
}
